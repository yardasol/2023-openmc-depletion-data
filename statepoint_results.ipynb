{
 "cells": [
  {
   "cell_type": "code",
   "execution_count": 25,
   "id": "85eff07e",
   "metadata": {},
   "outputs": [],
   "source": [
    "import openmc\n",
    "from openmc.deplete import Chain\n",
    "from pandas import DataFrame\n",
    "from openmc.mgxs import FissionXS, ArbitraryXS, EnergyGroups"
   ]
  },
  {
   "cell_type": "code",
   "execution_count": 31,
   "id": "8d73d369",
   "metadata": {},
   "outputs": [
    {
     "name": "stderr",
     "output_type": "stream",
     "text": [
      "/home/ooblack/projects/openmc/openmc/mixin.py:70: IDWarning: Another Material instance already exists with id=1.\n",
      "  warn(msg, IDWarning)\n",
      "/home/ooblack/projects/openmc/openmc/mixin.py:70: IDWarning: Another Material instance already exists with id=2.\n",
      "  warn(msg, IDWarning)\n",
      "/home/ooblack/projects/openmc/openmc/mixin.py:70: IDWarning: Another Material instance already exists with id=3.\n",
      "  warn(msg, IDWarning)\n",
      "/home/ooblack/projects/openmc/openmc/mixin.py:70: IDWarning: Another Surface instance already exists with id=1.\n",
      "  warn(msg, IDWarning)\n",
      "/home/ooblack/projects/openmc/openmc/mixin.py:70: IDWarning: Another Surface instance already exists with id=2.\n",
      "  warn(msg, IDWarning)\n",
      "/home/ooblack/projects/openmc/openmc/mixin.py:70: IDWarning: Another Surface instance already exists with id=3.\n",
      "  warn(msg, IDWarning)\n",
      "/home/ooblack/projects/openmc/openmc/mixin.py:70: IDWarning: Another Surface instance already exists with id=4.\n",
      "  warn(msg, IDWarning)\n",
      "/home/ooblack/projects/openmc/openmc/mixin.py:70: IDWarning: Another Surface instance already exists with id=5.\n",
      "  warn(msg, IDWarning)\n",
      "/home/ooblack/projects/openmc/openmc/mixin.py:70: IDWarning: Another Surface instance already exists with id=6.\n",
      "  warn(msg, IDWarning)\n",
      "/home/ooblack/projects/openmc/openmc/mixin.py:70: IDWarning: Another Cell instance already exists with id=1.\n",
      "  warn(msg, IDWarning)\n",
      "/home/ooblack/projects/openmc/openmc/mixin.py:70: IDWarning: Another UniverseBase instance already exists with id=1.\n",
      "  warn(msg, IDWarning)\n",
      "/home/ooblack/projects/openmc/openmc/mixin.py:70: IDWarning: Another Cell instance already exists with id=2.\n",
      "  warn(msg, IDWarning)\n",
      "/home/ooblack/projects/openmc/openmc/mixin.py:70: IDWarning: Another Cell instance already exists with id=3.\n",
      "  warn(msg, IDWarning)\n",
      "/home/ooblack/projects/openmc/openmc/mixin.py:70: IDWarning: Another Cell instance already exists with id=4.\n",
      "  warn(msg, IDWarning)\n",
      "/home/ooblack/projects/openmc/openmc/mixin.py:70: IDWarning: Another UniverseBase instance already exists with id=2.\n",
      "  warn(msg, IDWarning)\n",
      "/home/ooblack/projects/openmc/openmc/mixin.py:70: IDWarning: Another Filter instance already exists with id=1.\n",
      "  warn(msg, IDWarning)\n",
      "/home/ooblack/projects/openmc/openmc/mixin.py:70: IDWarning: Another Filter instance already exists with id=2.\n",
      "  warn(msg, IDWarning)\n",
      "/home/ooblack/projects/openmc/openmc/mixin.py:70: IDWarning: Another Filter instance already exists with id=3.\n",
      "  warn(msg, IDWarning)\n",
      "/home/ooblack/projects/openmc/openmc/mixin.py:70: IDWarning: Another Tally instance already exists with id=1.\n",
      "  warn(msg, IDWarning)\n",
      "/home/ooblack/projects/openmc/openmc/mixin.py:70: IDWarning: Another Tally instance already exists with id=2.\n",
      "  warn(msg, IDWarning)\n",
      "/home/ooblack/projects/openmc/openmc/mixin.py:70: IDWarning: Another Tally instance already exists with id=3.\n",
      "  warn(msg, IDWarning)\n",
      "/home/ooblack/projects/openmc/openmc/mixin.py:70: IDWarning: Another Tally instance already exists with id=4.\n",
      "  warn(msg, IDWarning)\n",
      "/home/ooblack/projects/openmc/openmc/mixin.py:70: IDWarning: Another Tally instance already exists with id=5.\n",
      "  warn(msg, IDWarning)\n"
     ]
    },
    {
     "name": "stdout",
     "output_type": "stream",
     "text": [
      "Step: 0\n",
      "Flux: [[[4.75093051e+14]]]\n",
      "Step: 1\n",
      "Flux: [[[4.73053168e+14]]]\n",
      "Step: 2\n",
      "Flux: [[[4.76126636e+14]]]\n",
      "Step: 3\n",
      "Flux: [[[4.74588439e+14]]]\n",
      "Step: 4\n",
      "Flux: [[[4.76227708e+14]]]\n",
      "Step: 5\n",
      "Flux: [[[4.74706037e+14]]]\n",
      "Step: 6\n",
      "Flux: [[[4.74930105e+14]]]\n"
     ]
    }
   ],
   "source": [
    "model = openmc.Model.from_xml()\n",
    "chain_file = '../openmc/tests/chain_simple.xml'\n",
    "chain = Chain.from_xml(chain_file)\n",
    "reactions = chain.reactions\n",
    "\n",
    "groups = EnergyGroups((0,20e6))\n",
    "reaction_domain=model.materials[0]\n",
    "xs = {}\n",
    "for rx in reactions:\n",
    "    if rx == 'fission':\n",
    "        xs[rx] = FissionXS(domain=reaction_domain,\n",
    "                     energy_groups=groups, by_nuclide=True)\n",
    "    else:\n",
    "        xs[rx] = ArbitraryXS(rx, domain=reaction_domain,\n",
    "                       energy_groups=groups, by_nuclide=True)\n",
    "        \n",
    "sps = []\n",
    "for i in range(0,7):\n",
    "    sps.append(openmc.StatePoint(f'openmc_simulation_n{i}.h5'))\n",
    "    tally = sps[i].get_tally(scores=['flux', 'heating'])\n",
    "    flux = tally.get_slice(scores=['flux'])\n",
    "    heating = tally.get_slice(scores=['heating'])\n",
    "    phi = flux.mean\n",
    "    H = heating.mean\n",
    "\n",
    "    H *= openmc.data.JOULE_PER_EV\n",
    "    vol = 1.24**2\n",
    "    f = 174 / H\n",
    "    Phi = f * phi / vol\n",
    "    print(f'Step: {i}')\n",
    "    print(f'Flux: {Phi}')\n",
    "\n",
    "\n",
    "dfs = []\n",
    "for sp in sps:\n",
    "    for rx in xs:\n",
    "        xs[rx].load_from_statepoint(sp)\n",
    "    sp.close()\n",
    "    series = {}\n",
    "    for rx in xs:\n",
    "        df = xs[rx].get_pandas_dataframe(xs_type='micro')\n",
    "        series[rx] = df.set_index('nuclide')['mean']\n",
    "    dfs.append(DataFrame(series))\n"
   ]
  },
  {
   "cell_type": "code",
   "execution_count": 32,
   "id": "9b3f746e",
   "metadata": {},
   "outputs": [
    {
     "data": {
      "text/plain": [
       "[         (n,gamma)    fission\n",
       " nuclide                      \n",
       " U234      9.438788   0.214529\n",
       " U235      4.545681  21.000721\n",
       " U238      0.376799   0.045651\n",
       " O16       0.000032   0.000000\n",
       " O17       0.000177   0.000000\n",
       " U236      3.735857   0.138560,\n",
       "          (n,gamma)    fission\n",
       " nuclide                      \n",
       " U234      9.351518   0.215381\n",
       " U235      4.554530  21.040166\n",
       " U238      0.378707   0.045929\n",
       " O16       0.000033   0.000000\n",
       " O17       0.000177   0.000000\n",
       " U236      3.997183   0.142015,\n",
       "          (n,gamma)    fission\n",
       " nuclide                      \n",
       " U234      9.722396   0.216330\n",
       " U235      4.550834  21.016055\n",
       " U238      0.377679   0.046213\n",
       " O16       0.000033   0.000000\n",
       " O17       0.000177   0.000000\n",
       " U236      3.727184   0.140099,\n",
       "          (n,gamma)    fission\n",
       " nuclide                      \n",
       " U234      9.314502   0.216668\n",
       " U235      4.521879  20.910415\n",
       " U238      0.374590   0.046532\n",
       " O16       0.000033   0.000000\n",
       " O17       0.000176   0.000000\n",
       " U236      3.889316   0.142208,\n",
       "          (n,gamma)    fission\n",
       " nuclide                      \n",
       " U234      9.472995   0.215393\n",
       " U235      4.544755  21.022886\n",
       " U238      0.370569   0.046090\n",
       " O16       0.000032   0.000000\n",
       " O17       0.000177   0.000000\n",
       " U236      3.937869   0.141039,\n",
       "          (n,gamma)    fission\n",
       " nuclide                      \n",
       " U234      9.230342   0.215891\n",
       " U235      4.557609  21.087275\n",
       " U238      0.376197   0.045999\n",
       " O16       0.000033   0.000000\n",
       " O17       0.000178   0.000000\n",
       " U236      3.741775   0.138844,\n",
       "          (n,gamma)    fission\n",
       " nuclide                      \n",
       " U234     10.184678   0.215795\n",
       " U235      4.540733  21.029368\n",
       " U238      0.378016   0.046134\n",
       " O16       0.000033   0.000000\n",
       " O17       0.000177   0.000000\n",
       " U236      3.677437   0.138456]"
      ]
     },
     "execution_count": 32,
     "metadata": {},
     "output_type": "execute_result"
    }
   ],
   "source": [
    "dfs"
   ]
  },
  {
   "cell_type": "code",
   "execution_count": 17,
   "id": "f2b9c4c0",
   "metadata": {},
   "outputs": [
    {
     "data": {
      "text/plain": [
       "Tally\n",
       "\tID             =\t3\n",
       "\tName           =\t\n",
       "\tFilters        =\tUniverseFilter, EnergyFilter\n",
       "\tNuclides       =\tU234 U235 U238 U236 O16 O17 Zr90 Zr91 Zr92 Zr94 Zr96 H1 H2\n",
       "\tScores         =\t['(n,gamma)']\n",
       "\tEstimator      =\ttracklength"
      ]
     },
     "execution_count": 17,
     "metadata": {},
     "output_type": "execute_result"
    }
   ],
   "source": [
    "tallies[2]."
   ]
  },
  {
   "cell_type": "code",
   "execution_count": 23,
   "id": "0048e968",
   "metadata": {},
   "outputs": [],
   "source": []
  },
  {
   "cell_type": "code",
   "execution_count": null,
   "id": "a8d7ee90",
   "metadata": {},
   "outputs": [],
   "source": []
  }
 ],
 "metadata": {
  "kernelspec": {
   "display_name": "Python [conda env:openmc-env] *",
   "language": "python",
   "name": "conda-env-openmc-env-py"
  },
  "language_info": {
   "codemirror_mode": {
    "name": "ipython",
    "version": 3
   },
   "file_extension": ".py",
   "mimetype": "text/x-python",
   "name": "python",
   "nbconvert_exporter": "python",
   "pygments_lexer": "ipython3",
   "version": "3.10.5"
  }
 },
 "nbformat": 4,
 "nbformat_minor": 5
}
