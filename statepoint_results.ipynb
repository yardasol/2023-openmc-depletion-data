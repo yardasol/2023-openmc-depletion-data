{
 "cells": [
  {
   "cell_type": "code",
   "execution_count": 8,
   "id": "3ad0ecf9",
   "metadata": {},
   "outputs": [],
   "source": [
    "import openmc\n",
    "from openmc.deplete import Chain\n",
    "from pandas import DataFrame\n",
    "from openmc.mgxs import FissionXS, ArbitraryXS, EnergyGroups"
   ]
  },
  {
   "cell_type": "code",
   "execution_count": 9,
   "id": "deb33b0a",
   "metadata": {},
   "outputs": [
    {
     "name": "stderr",
     "output_type": "stream",
     "text": [
      "/home/ooblack/projects/openmc/openmc/mixin.py:70: IDWarning: Another Material instance already exists with id=1.\n",
      "  warn(msg, IDWarning)\n",
      "/home/ooblack/projects/openmc/openmc/mixin.py:70: IDWarning: Another Material instance already exists with id=2.\n",
      "  warn(msg, IDWarning)\n",
      "/home/ooblack/projects/openmc/openmc/mixin.py:70: IDWarning: Another Material instance already exists with id=3.\n",
      "  warn(msg, IDWarning)\n",
      "/home/ooblack/projects/openmc/openmc/mixin.py:70: IDWarning: Another Surface instance already exists with id=1.\n",
      "  warn(msg, IDWarning)\n",
      "/home/ooblack/projects/openmc/openmc/mixin.py:70: IDWarning: Another Surface instance already exists with id=2.\n",
      "  warn(msg, IDWarning)\n",
      "/home/ooblack/projects/openmc/openmc/mixin.py:70: IDWarning: Another Surface instance already exists with id=3.\n",
      "  warn(msg, IDWarning)\n",
      "/home/ooblack/projects/openmc/openmc/mixin.py:70: IDWarning: Another Surface instance already exists with id=4.\n",
      "  warn(msg, IDWarning)\n",
      "/home/ooblack/projects/openmc/openmc/mixin.py:70: IDWarning: Another Surface instance already exists with id=5.\n",
      "  warn(msg, IDWarning)\n",
      "/home/ooblack/projects/openmc/openmc/mixin.py:70: IDWarning: Another Surface instance already exists with id=6.\n",
      "  warn(msg, IDWarning)\n",
      "/home/ooblack/projects/openmc/openmc/mixin.py:70: IDWarning: Another Cell instance already exists with id=1.\n",
      "  warn(msg, IDWarning)\n",
      "/home/ooblack/projects/openmc/openmc/mixin.py:70: IDWarning: Another UniverseBase instance already exists with id=1.\n",
      "  warn(msg, IDWarning)\n",
      "/home/ooblack/projects/openmc/openmc/mixin.py:70: IDWarning: Another Cell instance already exists with id=2.\n",
      "  warn(msg, IDWarning)\n",
      "/home/ooblack/projects/openmc/openmc/mixin.py:70: IDWarning: Another Cell instance already exists with id=3.\n",
      "  warn(msg, IDWarning)\n",
      "/home/ooblack/projects/openmc/openmc/mixin.py:70: IDWarning: Another Cell instance already exists with id=4.\n",
      "  warn(msg, IDWarning)\n",
      "/home/ooblack/projects/openmc/openmc/mixin.py:70: IDWarning: Another UniverseBase instance already exists with id=2.\n",
      "  warn(msg, IDWarning)\n",
      "/home/ooblack/projects/openmc/openmc/mixin.py:70: IDWarning: Another Filter instance already exists with id=1.\n",
      "  warn(msg, IDWarning)\n",
      "/home/ooblack/projects/openmc/openmc/mixin.py:70: IDWarning: Another Filter instance already exists with id=2.\n",
      "  warn(msg, IDWarning)\n",
      "/home/ooblack/projects/openmc/openmc/mixin.py:70: IDWarning: Another Tally instance already exists with id=1.\n",
      "  warn(msg, IDWarning)\n",
      "/home/ooblack/projects/openmc/openmc/mixin.py:70: IDWarning: Another Tally instance already exists with id=2.\n",
      "  warn(msg, IDWarning)\n",
      "/home/ooblack/projects/openmc/openmc/mixin.py:70: IDWarning: Another Tally instance already exists with id=3.\n",
      "  warn(msg, IDWarning)\n",
      "/home/ooblack/projects/openmc/openmc/mixin.py:70: IDWarning: Another Tally instance already exists with id=4.\n",
      "  warn(msg, IDWarning)\n"
     ]
    }
   ],
   "source": [
    "model = openmc.Model.from_xml()\n",
    "chain_file = '../openmc/tests/chain_simple.xml'\n",
    "chain = Chain.from_xml(chain_file)\n",
    "reactions = chain.reactions\n",
    "\n",
    "groups = EnergyGroups((0,20e6))\n",
    "reaction_domain=model.materials[0]\n",
    "xs = {}\n",
    "for rx in reactions:\n",
    "    if rx == 'fission':\n",
    "        xs[rx] = FissionXS(domain=reaction_domain,\n",
    "                     energy_groups=groups, by_nuclide=True)\n",
    "    else:\n",
    "        xs[rx] = ArbitraryXS(rx, domain=reaction_domain,\n",
    "                       energy_groups=groups, by_nuclide=True)\n",
    "        \n",
    "sps = []\n",
    "for i in range(0,7):\n",
    "    sps.append(openmc.StatePoint(f'openmc_simulation_n{i}.h5'))\n",
    "#    tally = sps[i].get_tally(scores=['flux', 'heating'])\n",
    "#    flux = tally.get_slice(scores=['flux'])\n",
    "#    heating = tally.get_slice(scores=['heating'])\n",
    "#    phi = flux.mean\n",
    "#    H = heating.mean\n",
    "\n",
    "#    H *= openmc.data.JOULE_PER_EV\n",
    "#    vol = 1.24**2\n",
    "#    f = 174 / H\n",
    "#    Phi = f * phi / vol\n",
    "#    print(f'Step: {i}')\n",
    "#    print(f'Flux: {Phi}')\n",
    "\n",
    "\n",
    "dfs = []\n",
    "for sp in sps:\n",
    "    for rx in xs:\n",
    "        xs[rx].load_from_statepoint(sp)\n",
    "    sp.close()\n",
    "    series = {}\n",
    "    for rx in xs:\n",
    "        df = xs[rx].get_pandas_dataframe(xs_type='micro')\n",
    "        series[rx] = df.set_index('nuclide')['mean']\n",
    "    dfs.append(DataFrame(series))\n"
   ]
  },
  {
   "cell_type": "code",
   "execution_count": 6,
   "id": "e76b52e7",
   "metadata": {
    "scrolled": false
   },
   "outputs": [
    {
     "data": {
      "text/plain": [
       "[         (n,gamma)    fission\n",
       " nuclide                      \n",
       " U234     23.098398   0.497379\n",
       " U235     10.506433  48.484407\n",
       " U238      0.863002   0.105797\n",
       " O16       0.000075   0.000000\n",
       " O17       0.000408   0.000000\n",
       " U236      8.617116   0.319379,\n",
       "          (n,gamma)    fission\n",
       " nuclide                      \n",
       " U234     22.216366   0.498413\n",
       " U235     10.466881  48.313321\n",
       " U238      0.853190   0.106529\n",
       " O16       0.000075   0.000000\n",
       " O17       0.000407   0.000000\n",
       " U236      9.548907   0.333280,\n",
       "          (n,gamma)    fission\n",
       " nuclide                      \n",
       " U234     22.534401   0.500141\n",
       " U235     10.453752  48.350339\n",
       " U238      0.848853   0.107477\n",
       " O16       0.000075   0.000000\n",
       " O17       0.000408   0.000000\n",
       " U236      8.596615   0.322589,\n",
       "          (n,gamma)    fission\n",
       " nuclide                      \n",
       " U234     22.078336   0.495170\n",
       " U235     10.605287  49.167829\n",
       " U238      0.871416   0.105561\n",
       " O16       0.000075   0.000000\n",
       " O17       0.000413   0.000000\n",
       " U236      8.237984   0.315080,\n",
       "          (n,gamma)    fission\n",
       " nuclide                      \n",
       " U234     22.588946   0.495900\n",
       " U235     10.530567  48.669474\n",
       " U238      0.863058   0.106286\n",
       " O16       0.000075   0.000000\n",
       " O17       0.000410   0.000000\n",
       " U236      8.963124   0.324253,\n",
       "          (n,gamma)    fission\n",
       " nuclide                      \n",
       " U234     21.558130   0.497245\n",
       " U235     10.516445  48.707726\n",
       " U238      0.878854   0.106566\n",
       " O16       0.000075   0.000000\n",
       " O17       0.000410   0.000000\n",
       " U236      8.304394   0.318616,\n",
       "          (n,gamma)    fission\n",
       " nuclide                      \n",
       " U234     22.710115   0.495121\n",
       " U235     10.527518  48.597691\n",
       " U238      0.863053   0.105285\n",
       " O16       0.000075   0.000000\n",
       " O17       0.000409   0.000000\n",
       " U236      8.464505   0.318252]"
      ]
     },
     "execution_count": 6,
     "metadata": {},
     "output_type": "execute_result"
    }
   ],
   "source": [
    "dfs"
   ]
  },
  {
   "cell_type": "code",
   "execution_count": 7,
   "id": "0628aff7",
   "metadata": {},
   "outputs": [
    {
     "ename": "SyntaxError",
     "evalue": "invalid syntax (3318269231.py, line 1)",
     "output_type": "error",
     "traceback": [
      "\u001b[0;36m  Input \u001b[0;32mIn [7]\u001b[0;36m\u001b[0m\n\u001b[0;31m    tallies[2].\u001b[0m\n\u001b[0m               ^\u001b[0m\n\u001b[0;31mSyntaxError\u001b[0m\u001b[0;31m:\u001b[0m invalid syntax\n"
     ]
    }
   ],
   "source": [
    "tallies[2]."
   ]
  },
  {
   "cell_type": "code",
   "execution_count": 23,
   "id": "2de8e31c",
   "metadata": {},
   "outputs": [],
   "source": []
  },
  {
   "cell_type": "code",
   "execution_count": null,
   "id": "66e10695",
   "metadata": {},
   "outputs": [],
   "source": []
  }
 ],
 "metadata": {
  "kernelspec": {
   "display_name": "Python [conda env:openmc-env] *",
   "language": "python",
   "name": "conda-env-openmc-env-py"
  },
  "language_info": {
   "codemirror_mode": {
    "name": "ipython",
    "version": 3
   },
   "file_extension": ".py",
   "mimetype": "text/x-python",
   "name": "python",
   "nbconvert_exporter": "python",
   "pygments_lexer": "ipython3",
   "version": "3.10.5"
  }
 },
 "nbformat": 4,
 "nbformat_minor": 5
}
